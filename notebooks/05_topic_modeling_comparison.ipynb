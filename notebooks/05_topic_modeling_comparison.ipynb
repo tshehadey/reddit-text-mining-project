{
 "cells": [
  {
   "cell_type": "code",
   "execution_count": 7,
   "id": "553ef504-f597-4bd3-a242-6efc77367a39",
   "metadata": {},
   "outputs": [],
   "source": [
    "import pandas as pd\n",
    "from sklearn.feature_extraction.text import TfidfVectorizer, CountVectorizer\n",
    "from sklearn.decomposition import NMF, TruncatedSVD, LatentDirichletAllocation\n",
    "import pyLDAvis\n",
    "import pyLDAvis.lda_model\n",
    "import pyLDAvis.gensim_models"
   ]
  },
  {
   "cell_type": "code",
   "execution_count": null,
   "id": "8242a418-7a51-4dd4-abf2-dc089b060fd7",
   "metadata": {},
   "outputs": [],
   "source": [
    "# re-creating LDA model from notebook 04\n",
    "df = pd.read_csv('../data/reddit_preprocessed.csv')\n",
    "\n",
    "# Creating count-vectorizer for pre-processed data\n",
    "count_text_vectorizer = CountVectorizer(stop_words='english', min_df=5, max_df=0.7)\n",
    "count_text_vectors = count_text_vectorizer.fit_transform(df[\"processed_text\"])\n",
    "\n",
    "# Creating TF-IDF vectorizier for pre-processed data\n",
    "tfidf_text_vectorizer = TfidfVectorizer(stop_words='english', min_df=5, max_df=0.7)\n",
    "tfidf_text_vectors = tfidf_text_vectorizer.fit_transform(df['processed_text'])\n",
    "\n",
    "# Latent Dirichlet Allocation (LDA) model\n",
    "lda_text_model = LatentDirichletAllocation(n_components = 2, random_state=509)\n",
    "W_lda_text_matrix = lda_text_model.fit_transform(count_text_vectors)\n",
    "H_lda_text_matrix = lda_text_model.components_"
   ]
  },
  {
   "cell_type": "code",
   "execution_count": null,
   "id": "1c2de590",
   "metadata": {},
   "outputs": [
    {
     "name": "stderr",
     "output_type": "stream",
     "text": [
      "/Users/mtc/Library/Python/3.12/lib/python/site-packages/joblib/externals/loky/backend/fork_exec.py:38: DeprecationWarning: This process (pid=91950) is multi-threaded, use of fork() may lead to deadlocks in the child.\n",
      "  pid = os.fork()\n",
      "/Users/mtc/Library/Python/3.12/lib/python/site-packages/joblib/externals/loky/backend/fork_exec.py:38: DeprecationWarning: This process (pid=91950) is multi-threaded, use of fork() may lead to deadlocks in the child.\n",
      "  pid = os.fork()\n",
      "/Users/mtc/Library/Python/3.12/lib/python/site-packages/joblib/externals/loky/backend/fork_exec.py:38: DeprecationWarning: This process (pid=91950) is multi-threaded, use of fork() may lead to deadlocks in the child.\n",
      "  pid = os.fork()\n",
      "/Users/mtc/Library/Python/3.12/lib/python/site-packages/joblib/externals/loky/backend/fork_exec.py:38: DeprecationWarning: This process (pid=91950) is multi-threaded, use of fork() may lead to deadlocks in the child.\n",
      "  pid = os.fork()\n",
      "/Users/mtc/Library/Python/3.12/lib/python/site-packages/joblib/externals/loky/backend/fork_exec.py:38: DeprecationWarning: This process (pid=91950) is multi-threaded, use of fork() may lead to deadlocks in the child.\n",
      "  pid = os.fork()\n",
      "/Users/mtc/Library/Python/3.12/lib/python/site-packages/joblib/externals/loky/backend/fork_exec.py:38: DeprecationWarning: This process (pid=91950) is multi-threaded, use of fork() may lead to deadlocks in the child.\n",
      "  pid = os.fork()\n",
      "/Users/mtc/Library/Python/3.12/lib/python/site-packages/joblib/externals/loky/backend/fork_exec.py:38: DeprecationWarning: This process (pid=91950) is multi-threaded, use of fork() may lead to deadlocks in the child.\n",
      "  pid = os.fork()\n",
      "/Users/mtc/Library/Python/3.12/lib/python/site-packages/joblib/externals/loky/backend/fork_exec.py:38: DeprecationWarning: This process (pid=91950) is multi-threaded, use of fork() may lead to deadlocks in the child.\n",
      "  pid = os.fork()\n",
      "/Users/mtc/Library/Python/3.12/lib/python/site-packages/joblib/externals/loky/backend/fork_exec.py:38: DeprecationWarning: This process (pid=91950) is multi-threaded, use of fork() may lead to deadlocks in the child.\n",
      "  pid = os.fork()\n",
      "/Users/mtc/Library/Python/3.12/lib/python/site-packages/joblib/externals/loky/backend/fork_exec.py:38: DeprecationWarning: This process (pid=91950) is multi-threaded, use of fork() may lead to deadlocks in the child.\n",
      "  pid = os.fork()\n",
      "/Users/mtc/Library/Python/3.12/lib/python/site-packages/joblib/externals/loky/backend/fork_exec.py:38: DeprecationWarning: This process (pid=91950) is multi-threaded, use of fork() may lead to deadlocks in the child.\n",
      "  pid = os.fork()\n",
      "/Users/mtc/Library/Python/3.12/lib/python/site-packages/joblib/externals/loky/backend/fork_exec.py:38: DeprecationWarning: This process (pid=91950) is multi-threaded, use of fork() may lead to deadlocks in the child.\n",
      "  pid = os.fork()\n",
      "/Users/mtc/Library/Python/3.12/lib/python/site-packages/joblib/externals/loky/backend/fork_exec.py:38: DeprecationWarning: This process (pid=91950) is multi-threaded, use of fork() may lead to deadlocks in the child.\n",
      "  pid = os.fork()\n",
      "/Users/mtc/Library/Python/3.12/lib/python/site-packages/joblib/externals/loky/backend/fork_exec.py:38: DeprecationWarning: This process (pid=91950) is multi-threaded, use of fork() may lead to deadlocks in the child.\n",
      "  pid = os.fork()\n",
      "/Users/mtc/Library/Python/3.12/lib/python/site-packages/joblib/externals/loky/backend/fork_exec.py:38: DeprecationWarning: This process (pid=91950) is multi-threaded, use of fork() may lead to deadlocks in the child.\n",
      "  pid = os.fork()\n",
      "/Users/mtc/Library/Python/3.12/lib/python/site-packages/joblib/externals/loky/backend/fork_exec.py:38: DeprecationWarning: This process (pid=91950) is multi-threaded, use of fork() may lead to deadlocks in the child.\n",
      "  pid = os.fork()\n",
      "/Users/mtc/Library/Python/3.12/lib/python/site-packages/joblib/externals/loky/backend/fork_exec.py:38: DeprecationWarning: This process (pid=91950) is multi-threaded, use of fork() may lead to deadlocks in the child.\n",
      "  pid = os.fork()\n"
     ]
    },
    {
     "data": {
      "text/html": [
       "\n",
       "<link rel=\"stylesheet\" type=\"text/css\" href=\"https://cdn.jsdelivr.net/gh/bmabey/pyLDAvis@3.4.0/pyLDAvis/js/ldavis.v1.0.0.css\">\n",
       "\n",
       "\n",
       "<div id=\"ldavis_el9195057643351841099876755\" style=\"background-color:white;\"></div>\n",
       "<script type=\"text/javascript\">\n",
       "\n",
       "var ldavis_el9195057643351841099876755_data = {\"mdsDat\": {\"x\": [0.12911071354217624, -0.12911071354217624], \"y\": [0.0, 0.0], \"topics\": [1, 2], \"cluster\": [1, 1], \"Freq\": [54.42113516547658, 45.57886483452342]}, \"tinfo\": {\"Term\": [\"people\", \"trump\", \"risk\", \"age\", \"social\", \"disease\", \"high\", \"symptom\", \"likely\", \"associate\", \"increase\", \"google\", \"network\", \"datum\", \"space\", \"scientist\", \"time\", \"microsoft\", \"adult\", \"work\", \"old\", \"depression\", \"water\", \"state\", \"control\", \"sleep\", \"medium\", \"food\", \"brain\", \"man\", \"people\", \"age\", \"disease\", \"google\", \"associate\", \"old\", \"work\", \"man\", \"increase\", \"state\", \"blood\", \"risk\", \"heart\", \"adult\", \"meta\", \"worker\", \"law\", \"case\", \"decline\", \"alzheimer\", \"sleep\", \"chatgpt\", \"come\", \"sign\", \"rule\", \"quantum\", \"chinas\", \"day\", \"sexual\", \"likely\", \"face\", \"high\", \"search\", \"live\", \"time\", \"power\", \"woman\", \"low\", \"drug\", \"early\", \"research\", \"study\", \"new\", \"use\", \"health\", \"model\", \"human\", \"cell\", \"lead\", \"reduce\", \"year\", \"trump\", \"space\", \"network\", \"symptom\", \"microsoft\", \"control\", \"water\", \"source\", \"launch\", \"factor\", \"response\", \"cut\", \"turn\", \"social\", \"anxiety\", \"family\", \"boost\", \"chinese\", \"eat\", \"recent\", \"software\", \"food\", \"medical\", \"open\", \"moon\", \"america\", \"enhance\", \"window\", \"field\", \"ocean\", \"depression\", \"billion\", \"create\", \"datum\", \"medium\", \"scientist\", \"brain\", \"researcher\", \"china\", \"know\", \"new\", \"help\", \"like\", \"study\", \"patient\", \"develop\", \"link\", \"report\", \"use\", \"cancer\", \"change\", \"climate\", \"year\", \"human\"], \"Freq\": [102.0, 64.0, 77.0, 63.0, 46.0, 49.0, 65.0, 31.0, 48.0, 39.0, 40.0, 37.0, 27.0, 40.0, 26.0, 65.0, 66.0, 25.0, 35.0, 33.0, 32.0, 25.0, 23.0, 30.0, 21.0, 30.0, 27.0, 22.0, 67.0, 27.0, 102.00759977970067, 62.95740529157652, 48.908627152662426, 36.784499573496916, 38.53954205952807, 32.07944400901848, 32.99463644741196, 27.465939822866837, 39.32813344744974, 30.173095744474438, 26.502243849866076, 75.82656518139522, 21.905546949767906, 34.63025612640238, 20.94366303985434, 21.803349041799795, 18.16124752803205, 19.068650743608348, 17.22351315981802, 18.122621862646596, 29.896373163666436, 15.372996749825111, 16.248773267274196, 15.305147958367407, 16.202721086393, 26.100475350073044, 14.39052993758779, 14.389991268592324, 13.489509638143263, 46.73778048318078, 25.087954883627457, 62.105348000872674, 16.174149621753386, 26.411864955748648, 59.76352361636118, 36.04714454200062, 34.40043384411524, 38.335474441846316, 29.168020924372208, 31.382770663227646, 53.58726469182438, 159.764794157634, 145.1313272311082, 86.02963935035007, 44.873355097715276, 36.57886586008058, 41.22784297208957, 32.407514661549556, 29.020381928399296, 31.311977844901175, 30.39298870039793, 64.38732836283124, 26.37444202536616, 27.273002516694753, 30.878177730765913, 24.506985780121372, 20.803895883489464, 22.598430977820332, 18.958305245524784, 18.00193274173529, 20.67302257936253, 19.76297280742563, 20.657590608028304, 17.96044912378611, 44.87767086118524, 20.62640214422437, 14.340066524918315, 15.23555638303396, 16.13026883799017, 14.32255878477125, 13.406144384374434, 14.282330835401224, 21.41745595899967, 16.062079874246045, 16.055424611747927, 12.48351332965709, 13.3714405260821, 12.474419453458378, 12.471201615757861, 11.579102105170293, 11.57745663763671, 24.886242464635774, 15.132443024452925, 22.755683429855072, 36.47612047580937, 25.438291197781307, 51.41606127326157, 50.15090551949465, 50.5099558245196, 28.53178827535175, 17.470921220002435, 93.19944969044823, 33.34844710451961, 25.405982374802726, 73.09554649506731, 24.775963312180654, 25.477379222672894, 29.723692998974208, 24.982150979485823, 38.7860361638484, 26.429934378421105, 25.346166223786337, 23.23941391831929, 24.51525101086552, 22.09590717362623], \"Total\": [102.0, 64.0, 77.0, 63.0, 46.0, 49.0, 65.0, 31.0, 48.0, 39.0, 40.0, 37.0, 27.0, 40.0, 26.0, 65.0, 66.0, 25.0, 35.0, 33.0, 32.0, 25.0, 23.0, 30.0, 21.0, 30.0, 27.0, 22.0, 67.0, 27.0, 102.66153150895664, 63.462840342591576, 49.462653091650765, 37.329486996819526, 39.195422497359104, 32.662616262871836, 33.59582514519487, 27.99633154621481, 40.12782101062023, 30.795712259137353, 27.062812194399278, 77.45547689683164, 22.39663506061471, 35.46099622436732, 21.46312730775386, 22.395980895245717, 18.663264860727715, 19.59642388449784, 17.72991168827058, 18.663017619143893, 30.79394096721378, 15.863365062357774, 16.796321644697663, 15.862930764527514, 16.796026866238048, 27.060240487757124, 14.929725559032061, 14.929722111030022, 13.996607392093383, 48.52140680886576, 26.126408612003246, 65.31208788522858, 16.795843981254706, 27.989584448475497, 66.22444871251663, 39.17946874475622, 37.31422667234575, 41.9761685664141, 31.716629575385213, 34.512858412909246, 64.33021315439566, 232.8603406527013, 238.33077692155643, 124.81567551419846, 60.565032647098846, 48.45637993836589, 63.3237501457158, 50.28438079244451, 37.27978914115402, 49.35001753182743, 54.90823971126345, 64.9179501355746, 26.896513988784758, 27.824050227906028, 31.5341247501873, 25.04189462455721, 21.33245088850377, 23.18754002556317, 19.477690661603095, 18.550526859181687, 21.333294000850984, 20.40583177800348, 21.333393416737636, 18.55079410505552, 46.37713634484454, 21.333594339141815, 14.840817551828888, 15.768373572591564, 16.695934601543055, 14.840930340238877, 13.913509119617887, 14.84118949684089, 22.261823158060626, 16.69637388866632, 16.69641676321596, 12.98612794794382, 13.913732688905728, 12.986186532537197, 12.986207262499683, 12.058629400431313, 12.058640000866639, 25.972776324042005, 15.769037849743997, 24.119851921304853, 40.83131114762303, 27.835869810039068, 65.00151366688323, 67.80963890036017, 77.14057530459323, 38.08251530191444, 19.487272690923565, 238.33077692155643, 52.051359628200245, 36.23600248117985, 232.8603406527013, 35.306736243752766, 39.96884231984166, 53.94136092454248, 39.97203268054574, 124.81567551419846, 53.02925503717321, 51.169586995446195, 37.18328490215311, 54.90823971126345, 63.3237501457158], \"Category\": [\"Default\", \"Default\", \"Default\", \"Default\", \"Default\", \"Default\", \"Default\", \"Default\", \"Default\", \"Default\", \"Default\", \"Default\", \"Default\", \"Default\", \"Default\", \"Default\", \"Default\", \"Default\", \"Default\", \"Default\", \"Default\", \"Default\", \"Default\", \"Default\", \"Default\", \"Default\", \"Default\", \"Default\", \"Default\", \"Default\", \"Topic1\", \"Topic1\", \"Topic1\", \"Topic1\", \"Topic1\", \"Topic1\", \"Topic1\", \"Topic1\", \"Topic1\", \"Topic1\", \"Topic1\", \"Topic1\", \"Topic1\", \"Topic1\", \"Topic1\", \"Topic1\", \"Topic1\", \"Topic1\", \"Topic1\", \"Topic1\", \"Topic1\", \"Topic1\", \"Topic1\", \"Topic1\", \"Topic1\", \"Topic1\", \"Topic1\", \"Topic1\", \"Topic1\", \"Topic1\", \"Topic1\", \"Topic1\", \"Topic1\", \"Topic1\", \"Topic1\", \"Topic1\", \"Topic1\", \"Topic1\", \"Topic1\", \"Topic1\", \"Topic1\", \"Topic1\", \"Topic1\", \"Topic1\", \"Topic1\", \"Topic1\", \"Topic1\", \"Topic1\", \"Topic1\", \"Topic1\", \"Topic1\", \"Topic2\", \"Topic2\", \"Topic2\", \"Topic2\", \"Topic2\", \"Topic2\", \"Topic2\", \"Topic2\", \"Topic2\", \"Topic2\", \"Topic2\", \"Topic2\", \"Topic2\", \"Topic2\", \"Topic2\", \"Topic2\", \"Topic2\", \"Topic2\", \"Topic2\", \"Topic2\", \"Topic2\", \"Topic2\", \"Topic2\", \"Topic2\", \"Topic2\", \"Topic2\", \"Topic2\", \"Topic2\", \"Topic2\", \"Topic2\", \"Topic2\", \"Topic2\", \"Topic2\", \"Topic2\", \"Topic2\", \"Topic2\", \"Topic2\", \"Topic2\", \"Topic2\", \"Topic2\", \"Topic2\", \"Topic2\", \"Topic2\", \"Topic2\", \"Topic2\", \"Topic2\", \"Topic2\", \"Topic2\", \"Topic2\", \"Topic2\", \"Topic2\", \"Topic2\", \"Topic2\", \"Topic2\"], \"logprob\": [30.0, 29.0, 28.0, 27.0, 26.0, 25.0, 24.0, 23.0, 22.0, 21.0, 20.0, 19.0, 18.0, 17.0, 16.0, 15.0, 14.0, 13.0, 12.0, 11.0, 10.0, 9.0, 8.0, 7.0, 6.0, 5.0, 4.0, 3.0, 2.0, 1.0, -4.1513, -4.6339, -4.8864, -5.1713, -5.1247, -5.3082, -5.28, -5.4634, -5.1044, -5.3694, -5.4992, -4.4479, -5.6896, -5.2317, -5.7345, -5.6943, -5.8771, -5.8283, -5.9301, -5.8792, -5.3786, -6.0438, -5.9884, -6.0482, -5.9912, -5.5144, -6.1098, -6.1098, -6.1745, -4.9318, -5.554, -4.6475, -5.993, -5.5026, -4.686, -5.1916, -5.2383, -5.13, -5.4033, -5.3301, -4.7951, -3.7027, -3.7987, -4.3217, -4.9725, -5.1769, -5.0573, -5.298, -5.4084, -5.3324, -5.3622, -4.4342, -5.3267, -5.2932, -5.169, -5.4001, -5.5639, -5.4812, -5.6568, -5.7086, -5.5702, -5.6153, -5.571, -5.7109, -4.7951, -5.5725, -5.936, -5.8754, -5.8184, -5.9372, -6.0034, -5.94, -5.5349, -5.8226, -5.823, -6.0747, -6.006, -6.0754, -6.0756, -6.1499, -6.15, -5.3848, -5.8822, -5.4743, -5.0024, -5.3628, -4.6591, -4.684, -4.6769, -5.2481, -5.7385, -4.0643, -5.0921, -5.3641, -4.3073, -5.3892, -5.3613, -5.2071, -5.3809, -4.941, -5.3246, -5.3664, -5.4532, -5.3998, -5.5037], \"loglift\": [30.0, 29.0, 28.0, 27.0, 26.0, 25.0, 24.0, 23.0, 22.0, 21.0, 20.0, 19.0, 18.0, 17.0, 16.0, 15.0, 14.0, 13.0, 12.0, 11.0, 10.0, 9.0, 8.0, 7.0, 6.0, 5.0, 4.0, 3.0, 2.0, 1.0, 0.602, 0.6004, 0.5972, 0.5937, 0.5915, 0.5904, 0.5904, 0.5893, 0.5883, 0.588, 0.5875, 0.5872, 0.5862, 0.5847, 0.5839, 0.5816, 0.5812, 0.5811, 0.5794, 0.579, 0.5788, 0.577, 0.5753, 0.5726, 0.5725, 0.5723, 0.5716, 0.5716, 0.5715, 0.571, 0.5679, 0.5581, 0.5707, 0.5504, 0.5058, 0.5251, 0.5271, 0.5177, 0.5246, 0.5133, 0.4257, 0.2317, 0.1124, 0.2363, 0.3085, 0.3272, 0.1793, 0.1691, 0.358, 0.1535, 0.017, 0.7775, 0.7661, 0.7657, 0.7647, 0.7641, 0.7606, 0.76, 0.7587, 0.7557, 0.7543, 0.7537, 0.7535, 0.7534, 0.7529, 0.752, 0.7514, 0.7514, 0.7513, 0.7502, 0.7486, 0.7473, 0.7471, 0.747, 0.7466, 0.7463, 0.746, 0.7455, 0.7453, 0.7451, 0.745, 0.743, 0.7445, 0.7275, 0.6729, 0.6957, 0.5513, 0.4841, 0.3623, 0.497, 0.6765, -0.1532, 0.3405, 0.4307, -0.3729, 0.4315, 0.3354, 0.1898, 0.3157, -0.3831, 0.0894, 0.0832, 0.3157, -0.0206, -0.2671]}, \"token.table\": {\"Topic\": [1, 2, 1, 2, 1, 2, 1, 2, 1, 2, 1, 2, 1, 2, 1, 2, 1, 2, 1, 2, 1, 2, 1, 2, 1, 2, 1, 2, 1, 1, 2, 1, 2, 1, 2, 1, 2, 1, 2, 1, 2, 1, 2, 1, 2, 1, 2, 1, 2, 1, 2, 1, 2, 1, 2, 1, 2, 1, 2, 1, 2, 1, 2, 1, 2, 1, 2, 1, 2, 1, 2, 2, 1, 2, 1, 2, 1, 2, 1, 1, 2, 1, 2, 1, 2, 1, 2, 1, 2, 1, 2, 1, 2, 1, 2, 1, 2, 1, 2, 1, 2, 1, 2, 1, 2, 1, 2, 1, 2, 1, 2, 1, 2, 1, 2, 1, 2, 1, 2, 1, 2, 1, 2, 2, 1, 2, 1, 2, 1, 2, 1, 2, 1, 2, 1, 2, 1, 2, 1, 2, 1, 2, 1, 2, 1, 2, 1, 2, 1, 2, 1, 2, 1, 2, 1, 2, 1, 2, 1, 2, 1, 2, 1, 2, 1, 2, 1, 2, 1, 2, 1, 2, 1, 2, 1, 2, 1, 2, 1, 2, 1, 2, 1, 2, 1, 2, 1, 2, 1, 2, 1, 2, 1, 2, 1, 2], \"Freq\": [0.9869999076887033, 0.02819999736253438, 0.9927069078520119, 0.01575725250558749, 0.9644742542350819, 0.0535819030130601, 0.0718714397034062, 0.9343287161442807, 0.04687442650792557, 0.984362956666437, 0.9950141499974322, 0.025513183333267492, 0.06341540996530962, 0.9512311494796443, 0.9976790219010471, 0.036951074885223964, 0.06341808147786342, 0.9512712221679512, 0.2654489876645604, 0.7373582990682233, 0.5091529191023549, 0.49029540358004553, 0.9695646568979531, 0.0510297187841028, 0.6363805121133791, 0.35796403806377575, 0.5081143219372447, 0.4885714634011969, 0.9455749105587656, 0.2625876972863001, 0.7615043221302702, 0.9377265472592962, 0.0669804676613783, 0.05989482013828558, 0.9583171222125693, 0.3765132649479639, 0.6185575067002264, 0.9525895215903388, 0.05953684509939618, 0.04687693904589781, 0.9844157199638541, 0.04145962434855202, 0.9535713600166965, 0.046874867981172914, 0.9843722276046312, 0.0979640351380893, 0.8816763162428036, 0.9377267638261567, 0.06698048313043976, 0.9588316230162917, 0.056401860177428924, 0.0385018523828097, 0.9625463095702425, 0.3502728422296586, 0.6254872182672475, 0.9906464157756864, 0.020217273791340536, 0.9143468391265147, 0.09458760404757048, 0.8982159527072006, 0.08692412445553553, 0.06738122052150972, 0.943337087301136, 0.07700490036043117, 0.9240588043251741, 0.9568862054968497, 0.038275448219873984, 0.046875086424070754, 0.9843768149054858, 0.06738173261059775, 0.9433442565483685, 0.9951379714489595, 0.04491995075605104, 0.9433189658770719, 0.9911735460804056, 0.02678847421838934, 0.7430029842831359, 0.2641788388562261, 0.9822904173086159, 0.3650240865121654, 0.6339892028895504, 0.9492882865565585, 0.04593330418822057, 0.6474663914511367, 0.3474209905347563, 0.9718942872496928, 0.024920366339735715, 0.10263108808096705, 0.8723642486882198, 0.053906824727462894, 0.9703228450943321, 0.9644614773632992, 0.05358119318684996, 0.7779013955845108, 0.2145934884371064, 0.3035654941715259, 0.6899215776625588, 0.9686446270022869, 0.041218920297969655, 0.4449275952375976, 0.556159494046997, 0.928916970806122, 0.07145515160047092, 0.9052755717777561, 0.09529216545029012, 0.9644120678964627, 0.03571896547764677, 0.05989324428574344, 0.9582919085718951, 0.07184973969373487, 0.8981217461716858, 0.9784221888491268, 0.046591532802339373, 0.039933080742994384, 0.9983270185748595, 0.7635733426034335, 0.24764540841192437, 0.0770052477542651, 0.9240629730511811, 0.03594013063551236, 0.9703835271588336, 0.6083981341936586, 0.39021397572420863, 0.9951370966491724, 0.9797133133016952, 0.030616041040677975, 0.05989309048652342, 0.9582894477843747, 0.31155527727223326, 0.708080175618712, 0.993556188971339, 0.009740746950699403, 0.9188485998758786, 0.07657071665632321, 0.9608192510987916, 0.03695458658072275, 0.07187259456997887, 0.9343437294097253, 0.6281659369220506, 0.36474151176119063, 0.3752623770694667, 0.6254372951157778, 0.8394189503211711, 0.1709927491394978, 0.35001035309095396, 0.6611306669495798, 0.04900559854060703, 0.9801119708121406, 0.9812088575896281, 0.025821285726042843, 0.9526062400008329, 0.05953789000005206, 0.21537959980049937, 0.784597113558962, 0.9526166126487647, 0.059538538290547796, 0.9287965030257003, 0.07144588484813079, 0.9456007986583924, 0.06304005324389282, 0.9742176239131235, 0.032473920797104115, 0.021562349011037287, 0.9703057054966779, 0.06738004391176738, 0.9433206147647433, 0.051340788668100545, 0.9754749846939104, 0.03717953934167742, 0.966668022883613, 0.9741615893653748, 0.032472052978845825, 0.6871071284681809, 0.31349262736360756, 0.031711677680036465, 0.9830620080811304, 0.9060098070497008, 0.09060098070497008, 0.015404060015937051, 0.9858598410199713, 0.0539060481366389, 0.9703088664595002, 0.689016020189043, 0.3124607533415427, 0.043126610192264776, 0.9919120344220899, 0.07700477743703533, 0.9240573292444241, 0.9111806147974659, 0.08039828954095288, 0.9822649051595004, 0.029765603186651526, 0.9823191090804253, 0.04465086859456479, 0.546366085632245, 0.45530507136020415], \"Term\": [\"adult\", \"adult\", \"age\", \"age\", \"alzheimer\", \"alzheimer\", \"america\", \"america\", \"anxiety\", \"anxiety\", \"associate\", \"associate\", \"billion\", \"billion\", \"blood\", \"blood\", \"boost\", \"boost\", \"brain\", \"brain\", \"cancer\", \"cancer\", \"case\", \"case\", \"cell\", \"cell\", \"change\", \"change\", \"chatgpt\", \"china\", \"china\", \"chinas\", \"chinas\", \"chinese\", \"chinese\", \"climate\", \"climate\", \"come\", \"come\", \"control\", \"control\", \"create\", \"create\", \"cut\", \"cut\", \"datum\", \"datum\", \"day\", \"day\", \"decline\", \"decline\", \"depression\", \"depression\", \"develop\", \"develop\", \"disease\", \"disease\", \"drug\", \"drug\", \"early\", \"early\", \"eat\", \"eat\", \"enhance\", \"enhance\", \"face\", \"face\", \"factor\", \"factor\", \"family\", \"family\", \"field\", \"food\", \"food\", \"google\", \"google\", \"health\", \"health\", \"heart\", \"help\", \"help\", \"high\", \"high\", \"human\", \"human\", \"increase\", \"increase\", \"know\", \"know\", \"launch\", \"launch\", \"law\", \"law\", \"lead\", \"lead\", \"like\", \"like\", \"likely\", \"likely\", \"link\", \"link\", \"live\", \"live\", \"low\", \"low\", \"man\", \"man\", \"medical\", \"medical\", \"medium\", \"medium\", \"meta\", \"meta\", \"microsoft\", \"microsoft\", \"model\", \"model\", \"moon\", \"moon\", \"network\", \"network\", \"new\", \"new\", \"ocean\", \"old\", \"old\", \"open\", \"open\", \"patient\", \"patient\", \"people\", \"people\", \"power\", \"power\", \"quantum\", \"quantum\", \"recent\", \"recent\", \"reduce\", \"reduce\", \"report\", \"report\", \"research\", \"research\", \"researcher\", \"researcher\", \"response\", \"response\", \"risk\", \"risk\", \"rule\", \"rule\", \"scientist\", \"scientist\", \"search\", \"search\", \"sexual\", \"sexual\", \"sign\", \"sign\", \"sleep\", \"sleep\", \"social\", \"social\", \"software\", \"software\", \"source\", \"source\", \"space\", \"space\", \"state\", \"state\", \"study\", \"study\", \"symptom\", \"symptom\", \"time\", \"time\", \"trump\", \"trump\", \"turn\", \"turn\", \"use\", \"use\", \"water\", \"water\", \"window\", \"window\", \"woman\", \"woman\", \"work\", \"work\", \"worker\", \"worker\", \"year\", \"year\"]}, \"R\": 30, \"lambda.step\": 0.01, \"plot.opts\": {\"xlab\": \"PC1\", \"ylab\": \"PC2\"}, \"topic.order\": [1, 2]};\n",
       "\n",
       "function LDAvis_load_lib(url, callback){\n",
       "  var s = document.createElement('script');\n",
       "  s.src = url;\n",
       "  s.async = true;\n",
       "  s.onreadystatechange = s.onload = callback;\n",
       "  s.onerror = function(){console.warn(\"failed to load library \" + url);};\n",
       "  document.getElementsByTagName(\"head\")[0].appendChild(s);\n",
       "}\n",
       "\n",
       "if(typeof(LDAvis) !== \"undefined\"){\n",
       "   // already loaded: just create the visualization\n",
       "   !function(LDAvis){\n",
       "       new LDAvis(\"#\" + \"ldavis_el9195057643351841099876755\", ldavis_el9195057643351841099876755_data);\n",
       "   }(LDAvis);\n",
       "}else if(typeof define === \"function\" && define.amd){\n",
       "   // require.js is available: use it to load d3/LDAvis\n",
       "   require.config({paths: {d3: \"https://d3js.org/d3.v5\"}});\n",
       "   require([\"d3\"], function(d3){\n",
       "      window.d3 = d3;\n",
       "      LDAvis_load_lib(\"https://cdn.jsdelivr.net/gh/bmabey/pyLDAvis@3.4.0/pyLDAvis/js/ldavis.v3.0.0.js\", function(){\n",
       "        new LDAvis(\"#\" + \"ldavis_el9195057643351841099876755\", ldavis_el9195057643351841099876755_data);\n",
       "      });\n",
       "    });\n",
       "}else{\n",
       "    // require.js not available: dynamically load d3 & LDAvis\n",
       "    LDAvis_load_lib(\"https://d3js.org/d3.v5.js\", function(){\n",
       "         LDAvis_load_lib(\"https://cdn.jsdelivr.net/gh/bmabey/pyLDAvis@3.4.0/pyLDAvis/js/ldavis.v3.0.0.js\", function(){\n",
       "                 new LDAvis(\"#\" + \"ldavis_el9195057643351841099876755\", ldavis_el9195057643351841099876755_data);\n",
       "            })\n",
       "         });\n",
       "}\n",
       "</script>"
      ],
      "text/plain": [
       "<IPython.core.display.HTML object>"
      ]
     },
     "execution_count": 9,
     "metadata": {},
     "output_type": "execute_result"
    }
   ],
   "source": [
    "# Creating interactive visualization for LDA Model\n",
    "lda_display = pyLDAvis.lda_model.prepare(lda_text_model, count_text_vectors, count_text_vectorizer, sort_topics=False)\n",
    "pyLDAvis.display(lda_display)"
   ]
  }
 ],
 "metadata": {
  "kernelspec": {
   "display_name": "Python 3",
   "language": "python",
   "name": "python3"
  },
  "language_info": {
   "codemirror_mode": {
    "name": "ipython",
    "version": 3
   },
   "file_extension": ".py",
   "mimetype": "text/x-python",
   "name": "python",
   "nbconvert_exporter": "python",
   "pygments_lexer": "ipython3",
   "version": "3.12.8"
  }
 },
 "nbformat": 4,
 "nbformat_minor": 5
}

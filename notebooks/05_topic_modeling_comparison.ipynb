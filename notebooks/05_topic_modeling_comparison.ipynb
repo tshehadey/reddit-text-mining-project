{
 "cells": [
  {
   "cell_type": "code",
   "execution_count": 1,
   "id": "553ef504-f597-4bd3-a242-6efc77367a39",
   "metadata": {},
   "outputs": [],
   "source": [
    "import pandas as pd\n",
    "from sklearn.feature_extraction.text import TfidfVectorizer, CountVectorizer\n",
    "from sklearn.decomposition import NMF, TruncatedSVD, LatentDirichletAllocation\n",
    "import pyLDAvis\n",
    "import pyLDAvis.lda_model\n",
    "import pyLDAvis.gensim_models"
   ]
  },
  {
   "cell_type": "code",
   "execution_count": 2,
   "id": "8242a418-7a51-4dd4-abf2-dc089b060fd7",
   "metadata": {},
   "outputs": [],
   "source": [
    "# re-creating LDA model from notebook 04\n",
    "df = pd.read_csv('../data/reddit_preprocessed.csv')\n",
    "\n",
    "# Creating count-vectorizer for pre-processed data\n",
    "count_text_vectorizer = CountVectorizer(stop_words='english', min_df=5, max_df=0.7)\n",
    "count_text_vectors = count_text_vectorizer.fit_transform(df[\"processed_text\"])\n",
    "\n",
    "# Creating TF-IDF vectorizier for pre-processed data\n",
    "tfidf_text_vectorizer = TfidfVectorizer(stop_words='english', min_df=5, max_df=0.7)\n",
    "tfidf_text_vectors = tfidf_text_vectorizer.fit_transform(df['processed_text'])\n",
    "\n",
    "# Latent Dirichlet Allocation (LDA) model\n",
    "lda_text_model = LatentDirichletAllocation(n_components = 2, random_state=509)\n",
    "W_lda_text_matrix = lda_text_model.fit_transform(count_text_vectors)\n",
    "H_lda_text_matrix = lda_text_model.components_"
   ]
  },
  {
   "cell_type": "code",
   "execution_count": 3,
   "id": "1c2de590",
   "metadata": {},
   "outputs": [
    {
     "data": {
      "text/html": [
       "\n",
       "<link rel=\"stylesheet\" type=\"text/css\" href=\"https://cdn.jsdelivr.net/gh/bmabey/pyLDAvis@3.4.0/pyLDAvis/js/ldavis.v1.0.0.css\">\n",
       "\n",
       "\n",
       "<div id=\"ldavis_el1911614472623936644861627177\" style=\"background-color:white;\"></div>\n",
       "<script type=\"text/javascript\">\n",
       "\n",
       "var ldavis_el1911614472623936644861627177_data = {\"mdsDat\": {\"x\": [0.12911071354217607, -0.12911071354217607], \"y\": [0.0, 0.0], \"topics\": [1, 2], \"cluster\": [1, 1], \"Freq\": [54.42113516547651, 45.57886483452349]}, \"tinfo\": {\"Term\": [\"people\", \"trump\", \"risk\", \"age\", \"social\", \"disease\", \"high\", \"symptom\", \"likely\", \"associate\", \"increase\", \"google\", \"network\", \"datum\", \"space\", \"scientist\", \"time\", \"microsoft\", \"adult\", \"work\", \"old\", \"depression\", \"water\", \"state\", \"control\", \"sleep\", \"medium\", \"food\", \"brain\", \"man\", \"people\", \"age\", \"disease\", \"google\", \"associate\", \"old\", \"work\", \"man\", \"increase\", \"state\", \"blood\", \"risk\", \"heart\", \"adult\", \"meta\", \"worker\", \"law\", \"case\", \"decline\", \"alzheimer\", \"sleep\", \"chatgpt\", \"come\", \"sign\", \"rule\", \"quantum\", \"chinas\", \"day\", \"sexual\", \"likely\", \"face\", \"high\", \"search\", \"live\", \"time\", \"power\", \"woman\", \"low\", \"drug\", \"early\", \"research\", \"study\", \"new\", \"use\", \"health\", \"model\", \"human\", \"cell\", \"lead\", \"reduce\", \"year\", \"trump\", \"space\", \"network\", \"symptom\", \"microsoft\", \"control\", \"water\", \"source\", \"launch\", \"factor\", \"response\", \"cut\", \"turn\", \"social\", \"anxiety\", \"family\", \"boost\", \"chinese\", \"eat\", \"recent\", \"software\", \"food\", \"medical\", \"open\", \"moon\", \"america\", \"enhance\", \"window\", \"field\", \"ocean\", \"depression\", \"billion\", \"create\", \"datum\", \"medium\", \"scientist\", \"brain\", \"researcher\", \"china\", \"know\", \"new\", \"help\", \"like\", \"study\", \"patient\", \"develop\", \"link\", \"report\", \"use\", \"cancer\", \"change\", \"climate\", \"year\", \"human\"], \"Freq\": [102.0, 64.0, 77.0, 63.0, 46.0, 49.0, 65.0, 31.0, 48.0, 39.0, 40.0, 37.0, 27.0, 40.0, 26.0, 65.0, 66.0, 25.0, 35.0, 33.0, 32.0, 25.0, 23.0, 30.0, 21.0, 30.0, 27.0, 22.0, 67.0, 27.0, 102.0075997797007, 62.957405291576535, 48.90862715266242, 36.78449957349694, 38.53954205952809, 32.07944400901849, 32.99463644741196, 27.46593982286684, 39.328133447449744, 30.17309574447443, 26.502243849866076, 75.8265651813952, 21.90554694976791, 34.630256126402394, 20.943663039854343, 21.803349041799812, 18.161247528032057, 19.068650743608355, 17.22351315981802, 18.12262186264661, 29.896373163666432, 15.372996749825116, 16.248773267274196, 15.30514795836741, 16.202721086393, 26.10047535007306, 14.390529937587793, 14.389991268592325, 13.489509638143264, 46.737780483180735, 25.087954883627447, 62.10534800087258, 16.174149621753386, 26.41186495574865, 59.76352361636111, 36.047144542000645, 34.40043384411523, 38.33547444184624, 29.168020924372115, 31.382770663227646, 53.58726469182423, 159.76479415763356, 145.13132723110755, 86.02963935035011, 44.873355097715084, 36.578865860080555, 41.22784297208957, 32.40751466154954, 29.02038192839908, 31.31197784490109, 30.392988700397915, 64.38732836283123, 26.374442025366154, 27.273002516694742, 30.878177730765906, 24.50698578012137, 20.80389588348946, 22.598430977820325, 18.958305245524777, 18.001932741735285, 20.673022579362534, 19.762972807425623, 20.657590608028308, 17.960449123786105, 44.877670861185244, 20.626402144224368, 14.340066524918313, 15.235556383033959, 16.13026883799017, 14.322558784771243, 13.40614438437443, 14.282330835401224, 21.41745595899967, 16.06207987424605, 16.055424611747927, 12.483513329657088, 13.371440526082099, 12.474419453458378, 12.471201615757858, 11.579102105170291, 11.577456637636708, 24.88624246463579, 15.132443024452927, 22.755683429855097, 36.47612047580935, 25.438291197781282, 51.416061273261576, 50.150905519494714, 50.50995582451955, 28.531788275351563, 17.470921220002417, 93.19944969044889, 33.34844710451969, 25.405982374802782, 73.09554649506772, 24.77596331218076, 25.47737922267291, 29.72369299897433, 24.98215097948581, 38.78603616384836, 26.4299343784212, 25.346166223786366, 23.23941391831937, 24.515251010865555, 22.095907173626255], \"Total\": [102.0, 64.0, 77.0, 63.0, 46.0, 49.0, 65.0, 31.0, 48.0, 39.0, 40.0, 37.0, 27.0, 40.0, 26.0, 65.0, 66.0, 25.0, 35.0, 33.0, 32.0, 25.0, 23.0, 30.0, 21.0, 30.0, 27.0, 22.0, 67.0, 27.0, 102.66153150895667, 63.46284034259159, 49.462653091650765, 37.32948699681955, 39.195422497359125, 32.66261626287184, 33.59582514519487, 27.996331546214815, 40.127821010620245, 30.795712259137346, 27.062812194399278, 77.45547689683166, 22.396635060614713, 35.46099622436734, 21.463127307753865, 22.395980895245735, 18.663264860727722, 19.596423884497845, 17.72991168827058, 18.66301761914391, 30.793940967213786, 15.86336506235778, 16.796321644697663, 15.86293076452752, 16.796026866238048, 27.060240487757135, 14.929725559032063, 14.929722111030024, 13.996607392093384, 48.52140680886576, 26.12640861200325, 65.31208788522856, 16.795843981254702, 27.9895844484755, 66.22444871251665, 39.17946874475621, 37.314226672345754, 41.976168566414096, 31.71662957538521, 34.51285841290925, 64.33021315439566, 232.86034065270127, 238.33077692155643, 124.81567551419846, 60.565032647098846, 48.456379938365885, 63.32375014571582, 50.28438079244452, 37.27978914115401, 49.35001753182745, 54.90823971126347, 64.91795013557459, 26.896513988784754, 27.824050227906017, 31.53412475018729, 25.041894624557205, 21.332450888503768, 23.187540025563163, 19.477690661603088, 18.550526859181684, 21.333294000850984, 20.405831778003478, 21.333393416737632, 18.550794105055516, 46.37713634484454, 21.333594339141808, 14.840817551828886, 15.76837357259156, 16.695934601543055, 14.84093034023887, 13.913509119617883, 14.84118949684089, 22.261823158060622, 16.69637388866632, 16.69641676321596, 12.986127947943817, 13.913732688905727, 12.986186532537197, 12.98620726249968, 12.058629400431311, 12.058640000866637, 25.972776324042005, 15.769037849743995, 24.11985192130485, 40.831311147623026, 27.835869810039064, 65.00151366688318, 67.80963890036016, 77.14057530459323, 38.08251530191445, 19.487272690923554, 238.33077692155643, 52.051359628200245, 36.23600248117985, 232.86034065270127, 35.306736243752766, 39.96884231984166, 53.94136092454247, 39.97203268054573, 124.81567551419846, 53.029255037173215, 51.16958699544618, 37.183284902153105, 54.90823971126347, 63.32375014571582], \"Category\": [\"Default\", \"Default\", \"Default\", \"Default\", \"Default\", \"Default\", \"Default\", \"Default\", \"Default\", \"Default\", \"Default\", \"Default\", \"Default\", \"Default\", \"Default\", \"Default\", \"Default\", \"Default\", \"Default\", \"Default\", \"Default\", \"Default\", \"Default\", \"Default\", \"Default\", \"Default\", \"Default\", \"Default\", \"Default\", \"Default\", \"Topic1\", \"Topic1\", \"Topic1\", \"Topic1\", \"Topic1\", \"Topic1\", \"Topic1\", \"Topic1\", \"Topic1\", \"Topic1\", \"Topic1\", \"Topic1\", \"Topic1\", \"Topic1\", \"Topic1\", \"Topic1\", \"Topic1\", \"Topic1\", \"Topic1\", \"Topic1\", \"Topic1\", \"Topic1\", \"Topic1\", \"Topic1\", \"Topic1\", \"Topic1\", \"Topic1\", \"Topic1\", \"Topic1\", \"Topic1\", \"Topic1\", \"Topic1\", \"Topic1\", \"Topic1\", \"Topic1\", \"Topic1\", \"Topic1\", \"Topic1\", \"Topic1\", \"Topic1\", \"Topic1\", \"Topic1\", \"Topic1\", \"Topic1\", \"Topic1\", \"Topic1\", \"Topic1\", \"Topic1\", \"Topic1\", \"Topic1\", \"Topic1\", \"Topic2\", \"Topic2\", \"Topic2\", \"Topic2\", \"Topic2\", \"Topic2\", \"Topic2\", \"Topic2\", \"Topic2\", \"Topic2\", \"Topic2\", \"Topic2\", \"Topic2\", \"Topic2\", \"Topic2\", \"Topic2\", \"Topic2\", \"Topic2\", \"Topic2\", \"Topic2\", \"Topic2\", \"Topic2\", \"Topic2\", \"Topic2\", \"Topic2\", \"Topic2\", \"Topic2\", \"Topic2\", \"Topic2\", \"Topic2\", \"Topic2\", \"Topic2\", \"Topic2\", \"Topic2\", \"Topic2\", \"Topic2\", \"Topic2\", \"Topic2\", \"Topic2\", \"Topic2\", \"Topic2\", \"Topic2\", \"Topic2\", \"Topic2\", \"Topic2\", \"Topic2\", \"Topic2\", \"Topic2\", \"Topic2\", \"Topic2\", \"Topic2\", \"Topic2\", \"Topic2\", \"Topic2\"], \"logprob\": [30.0, 29.0, 28.0, 27.0, 26.0, 25.0, 24.0, 23.0, 22.0, 21.0, 20.0, 19.0, 18.0, 17.0, 16.0, 15.0, 14.0, 13.0, 12.0, 11.0, 10.0, 9.0, 8.0, 7.0, 6.0, 5.0, 4.0, 3.0, 2.0, 1.0, -4.1513, -4.6339, -4.8864, -5.1713, -5.1247, -5.3082, -5.28, -5.4634, -5.1044, -5.3694, -5.4992, -4.4479, -5.6896, -5.2317, -5.7345, -5.6943, -5.8771, -5.8283, -5.9301, -5.8792, -5.3786, -6.0438, -5.9884, -6.0482, -5.9912, -5.5144, -6.1098, -6.1098, -6.1745, -4.9318, -5.554, -4.6475, -5.993, -5.5026, -4.686, -5.1916, -5.2383, -5.13, -5.4033, -5.3301, -4.7951, -3.7027, -3.7987, -4.3217, -4.9725, -5.1769, -5.0573, -5.298, -5.4084, -5.3324, -5.3622, -4.4342, -5.3267, -5.2932, -5.169, -5.4001, -5.5639, -5.4812, -5.6568, -5.7086, -5.5702, -5.6153, -5.571, -5.7109, -4.7951, -5.5725, -5.936, -5.8754, -5.8184, -5.9372, -6.0034, -5.94, -5.5349, -5.8226, -5.823, -6.0747, -6.006, -6.0754, -6.0756, -6.1499, -6.15, -5.3848, -5.8822, -5.4743, -5.0024, -5.3628, -4.6591, -4.684, -4.6769, -5.2481, -5.7385, -4.0643, -5.0921, -5.3641, -4.3073, -5.3892, -5.3613, -5.2071, -5.3809, -4.941, -5.3246, -5.3664, -5.4532, -5.3998, -5.5037], \"loglift\": [30.0, 29.0, 28.0, 27.0, 26.0, 25.0, 24.0, 23.0, 22.0, 21.0, 20.0, 19.0, 18.0, 17.0, 16.0, 15.0, 14.0, 13.0, 12.0, 11.0, 10.0, 9.0, 8.0, 7.0, 6.0, 5.0, 4.0, 3.0, 2.0, 1.0, 0.602, 0.6004, 0.5972, 0.5937, 0.5915, 0.5904, 0.5904, 0.5893, 0.5883, 0.588, 0.5875, 0.5872, 0.5862, 0.5847, 0.5839, 0.5816, 0.5812, 0.5811, 0.5794, 0.579, 0.5788, 0.577, 0.5753, 0.5726, 0.5725, 0.5723, 0.5716, 0.5716, 0.5715, 0.571, 0.5679, 0.5581, 0.5707, 0.5504, 0.5058, 0.5251, 0.5271, 0.5177, 0.5246, 0.5133, 0.4257, 0.2317, 0.1124, 0.2363, 0.3085, 0.3272, 0.1793, 0.1691, 0.358, 0.1535, 0.017, 0.7775, 0.7661, 0.7657, 0.7647, 0.7641, 0.7606, 0.76, 0.7587, 0.7557, 0.7543, 0.7537, 0.7535, 0.7534, 0.7529, 0.752, 0.7514, 0.7514, 0.7513, 0.7502, 0.7486, 0.7473, 0.7471, 0.747, 0.7466, 0.7463, 0.746, 0.7455, 0.7453, 0.7451, 0.745, 0.743, 0.7445, 0.7275, 0.6729, 0.6957, 0.5513, 0.4841, 0.3623, 0.497, 0.6765, -0.1532, 0.3405, 0.4307, -0.3729, 0.4315, 0.3354, 0.1898, 0.3157, -0.3831, 0.0894, 0.0832, 0.3157, -0.0206, -0.2671]}, \"token.table\": {\"Topic\": [1, 2, 1, 2, 1, 2, 1, 2, 1, 2, 1, 2, 1, 2, 1, 2, 1, 2, 1, 2, 1, 2, 1, 2, 1, 2, 1, 2, 1, 1, 2, 1, 2, 1, 2, 1, 2, 1, 2, 1, 2, 1, 2, 1, 2, 1, 2, 1, 2, 1, 2, 1, 2, 1, 2, 1, 2, 1, 2, 1, 2, 1, 2, 1, 2, 1, 2, 1, 2, 1, 2, 2, 1, 2, 1, 2, 1, 2, 1, 1, 2, 1, 2, 1, 2, 1, 2, 1, 2, 1, 2, 1, 2, 1, 2, 1, 2, 1, 2, 1, 2, 1, 2, 1, 2, 1, 2, 1, 2, 1, 2, 1, 2, 1, 2, 1, 2, 1, 2, 1, 2, 1, 2, 2, 1, 2, 1, 2, 1, 2, 1, 2, 1, 2, 1, 2, 1, 2, 1, 2, 1, 2, 1, 2, 1, 2, 1, 2, 1, 2, 1, 2, 1, 2, 1, 2, 1, 2, 1, 2, 1, 2, 1, 2, 1, 2, 1, 2, 1, 2, 1, 2, 1, 2, 1, 2, 1, 2, 1, 2, 1, 2, 1, 2, 1, 2, 1, 2, 1, 2, 1, 2, 1, 2, 1, 2], \"Freq\": [0.9869999076887026, 0.02819999736253436, 0.9927069078520117, 0.015757252505587488, 0.9644742542350809, 0.05358190301306005, 0.07187143970340622, 0.9343287161442808, 0.04687442650792559, 0.9843629566664374, 0.9950141499974317, 0.025513183333267478, 0.06341540996530963, 0.9512311494796444, 0.9976790219010471, 0.036951074885223964, 0.06341808147786343, 0.9512712221679515, 0.26544898766456043, 0.7373582990682234, 0.5091529191023549, 0.4902954035800455, 0.9695646568979528, 0.05102971878410278, 0.6363805121133789, 0.35796403806377564, 0.5081143219372449, 0.488571463401197, 0.9455749105587653, 0.26258769728630005, 0.7615043221302701, 0.937726547259296, 0.06698046766137829, 0.05989482013828558, 0.9583171222125693, 0.37651326494796394, 0.6185575067002265, 0.9525895215903388, 0.05953684509939618, 0.04687693904589783, 0.9844157199638542, 0.04145962434855203, 0.9535713600166966, 0.04687486798117292, 0.9843722276046313, 0.09796403513808931, 0.8816763162428038, 0.9377267638261566, 0.06698048313043976, 0.9588316230162917, 0.056401860177428924, 0.0385018523828097, 0.9625463095702425, 0.3502728422296586, 0.6254872182672475, 0.9906464157756864, 0.020217273791340536, 0.9143468391265147, 0.0945876040475705, 0.8982159527072003, 0.08692412445553552, 0.06738122052150974, 0.9433370873011365, 0.07700490036043117, 0.9240588043251741, 0.9568862054968496, 0.03827544821987398, 0.046875086424070754, 0.9843768149054858, 0.06738173261059775, 0.9433442565483686, 0.9951379714489597, 0.04491995075605105, 0.9433189658770721, 0.9911735460804051, 0.026788474218389324, 0.7430029842831359, 0.2641788388562261, 0.9822904173086157, 0.3650240865121654, 0.6339892028895504, 0.9492882865565587, 0.045933304188220586, 0.6474663914511365, 0.34742099053475617, 0.9718942872496925, 0.024920366339735708, 0.1026310880809671, 0.8723642486882204, 0.05390682472746291, 0.9703228450943323, 0.9644614773632988, 0.05358119318684994, 0.7779013955845109, 0.21459348843710646, 0.3035654941715259, 0.6899215776625588, 0.9686446270022869, 0.041218920297969655, 0.4449275952375977, 0.556159494046997, 0.9289169708061219, 0.07145515160047092, 0.9052755717777563, 0.09529216545029014, 0.9644120678964626, 0.03571896547764676, 0.05989324428574344, 0.9582919085718951, 0.07184973969373487, 0.8981217461716859, 0.9784221888491267, 0.04659153280233937, 0.03993308074299439, 0.9983270185748597, 0.7635733426034336, 0.2476454084119244, 0.07700524775426511, 0.9240629730511813, 0.03594013063551237, 0.970383527158834, 0.6083981341936586, 0.39021397572420863, 0.9951370966491725, 0.979713313301695, 0.030616041040677968, 0.05989309048652342, 0.9582894477843747, 0.31155527727223326, 0.708080175618712, 0.9935561889713387, 0.0097407469506994, 0.918848599875879, 0.07657071665632324, 0.9608192510987913, 0.03695458658072274, 0.07187259456997888, 0.9343437294097255, 0.6281659369220504, 0.3647415117611905, 0.37526237706946675, 0.625437295115778, 0.8394189503211711, 0.1709927491394978, 0.35001035309095396, 0.6611306669495798, 0.04900559854060704, 0.9801119708121409, 0.9812088575896278, 0.025821285726042836, 0.9526062400008329, 0.05953789000005206, 0.2153795998004995, 0.7845971135589626, 0.952616612648765, 0.05953853829054781, 0.9287965030257002, 0.07144588484813078, 0.945600798658392, 0.0630400532438928, 0.9742176239131233, 0.03247392079710411, 0.021562349011037287, 0.9703057054966779, 0.06738004391176738, 0.9433206147647433, 0.051340788668100566, 0.9754749846939107, 0.03717953934167743, 0.9666680228836131, 0.974161589365375, 0.03247205297884583, 0.687107128468181, 0.31349262736360756, 0.03171167768003647, 0.9830620080811308, 0.9060098070497006, 0.09060098070497005, 0.015404060015937054, 0.9858598410199715, 0.053906048136638914, 0.9703088664595004, 0.689016020189043, 0.3124607533415427, 0.04312661019226479, 0.9919120344220901, 0.07700477743703536, 0.9240573292444243, 0.9111806147974658, 0.08039828954095286, 0.9822649051595004, 0.029765603186651526, 0.9823191090804245, 0.044650868594564755, 0.5463660856322448, 0.455305071360204], \"Term\": [\"adult\", \"adult\", \"age\", \"age\", \"alzheimer\", \"alzheimer\", \"america\", \"america\", \"anxiety\", \"anxiety\", \"associate\", \"associate\", \"billion\", \"billion\", \"blood\", \"blood\", \"boost\", \"boost\", \"brain\", \"brain\", \"cancer\", \"cancer\", \"case\", \"case\", \"cell\", \"cell\", \"change\", \"change\", \"chatgpt\", \"china\", \"china\", \"chinas\", \"chinas\", \"chinese\", \"chinese\", \"climate\", \"climate\", \"come\", \"come\", \"control\", \"control\", \"create\", \"create\", \"cut\", \"cut\", \"datum\", \"datum\", \"day\", \"day\", \"decline\", \"decline\", \"depression\", \"depression\", \"develop\", \"develop\", \"disease\", \"disease\", \"drug\", \"drug\", \"early\", \"early\", \"eat\", \"eat\", \"enhance\", \"enhance\", \"face\", \"face\", \"factor\", \"factor\", \"family\", \"family\", \"field\", \"food\", \"food\", \"google\", \"google\", \"health\", \"health\", \"heart\", \"help\", \"help\", \"high\", \"high\", \"human\", \"human\", \"increase\", \"increase\", \"know\", \"know\", \"launch\", \"launch\", \"law\", \"law\", \"lead\", \"lead\", \"like\", \"like\", \"likely\", \"likely\", \"link\", \"link\", \"live\", \"live\", \"low\", \"low\", \"man\", \"man\", \"medical\", \"medical\", \"medium\", \"medium\", \"meta\", \"meta\", \"microsoft\", \"microsoft\", \"model\", \"model\", \"moon\", \"moon\", \"network\", \"network\", \"new\", \"new\", \"ocean\", \"old\", \"old\", \"open\", \"open\", \"patient\", \"patient\", \"people\", \"people\", \"power\", \"power\", \"quantum\", \"quantum\", \"recent\", \"recent\", \"reduce\", \"reduce\", \"report\", \"report\", \"research\", \"research\", \"researcher\", \"researcher\", \"response\", \"response\", \"risk\", \"risk\", \"rule\", \"rule\", \"scientist\", \"scientist\", \"search\", \"search\", \"sexual\", \"sexual\", \"sign\", \"sign\", \"sleep\", \"sleep\", \"social\", \"social\", \"software\", \"software\", \"source\", \"source\", \"space\", \"space\", \"state\", \"state\", \"study\", \"study\", \"symptom\", \"symptom\", \"time\", \"time\", \"trump\", \"trump\", \"turn\", \"turn\", \"use\", \"use\", \"water\", \"water\", \"window\", \"window\", \"woman\", \"woman\", \"work\", \"work\", \"worker\", \"worker\", \"year\", \"year\"]}, \"R\": 30, \"lambda.step\": 0.01, \"plot.opts\": {\"xlab\": \"PC1\", \"ylab\": \"PC2\"}, \"topic.order\": [1, 2]};\n",
       "\n",
       "function LDAvis_load_lib(url, callback){\n",
       "  var s = document.createElement('script');\n",
       "  s.src = url;\n",
       "  s.async = true;\n",
       "  s.onreadystatechange = s.onload = callback;\n",
       "  s.onerror = function(){console.warn(\"failed to load library \" + url);};\n",
       "  document.getElementsByTagName(\"head\")[0].appendChild(s);\n",
       "}\n",
       "\n",
       "if(typeof(LDAvis) !== \"undefined\"){\n",
       "   // already loaded: just create the visualization\n",
       "   !function(LDAvis){\n",
       "       new LDAvis(\"#\" + \"ldavis_el1911614472623936644861627177\", ldavis_el1911614472623936644861627177_data);\n",
       "   }(LDAvis);\n",
       "}else if(typeof define === \"function\" && define.amd){\n",
       "   // require.js is available: use it to load d3/LDAvis\n",
       "   require.config({paths: {d3: \"https://d3js.org/d3.v5\"}});\n",
       "   require([\"d3\"], function(d3){\n",
       "      window.d3 = d3;\n",
       "      LDAvis_load_lib(\"https://cdn.jsdelivr.net/gh/bmabey/pyLDAvis@3.4.0/pyLDAvis/js/ldavis.v3.0.0.js\", function(){\n",
       "        new LDAvis(\"#\" + \"ldavis_el1911614472623936644861627177\", ldavis_el1911614472623936644861627177_data);\n",
       "      });\n",
       "    });\n",
       "}else{\n",
       "    // require.js not available: dynamically load d3 & LDAvis\n",
       "    LDAvis_load_lib(\"https://d3js.org/d3.v5.js\", function(){\n",
       "         LDAvis_load_lib(\"https://cdn.jsdelivr.net/gh/bmabey/pyLDAvis@3.4.0/pyLDAvis/js/ldavis.v3.0.0.js\", function(){\n",
       "                 new LDAvis(\"#\" + \"ldavis_el1911614472623936644861627177\", ldavis_el1911614472623936644861627177_data);\n",
       "            })\n",
       "         });\n",
       "}\n",
       "</script>"
      ],
      "text/plain": [
       "<IPython.core.display.HTML object>"
      ]
     },
     "execution_count": 3,
     "metadata": {},
     "output_type": "execute_result"
    }
   ],
   "source": [
    "# Creating interactive visualization for LDA Model\n",
    "lda_display = pyLDAvis.lda_model.prepare(lda_text_model, count_text_vectors, count_text_vectorizer, sort_topics=False)\n",
    "pyLDAvis.display(lda_display)"
   ]
  },
  {
   "cell_type": "markdown",
   "id": "f414bf4d-eee2-49ec-98c5-992ae1f7be87",
   "metadata": {},
   "source": [
    "#### When we explore the topics using pyLDAvis, we can see more detail about the terms that define each one. In Topic 1, the most relevant words are “study,” “new,” “people,” “use,” “risk,” and “age.” These suggest the topic might be focused on health, research, or social science themes. In Topic 2, the top terms include “new,” “study,” “trump,” “scientist,” “brain,” “datum,” and “researcher.” This group also leans toward science and research but includes more political or public terms like “trump” and “social,” which might explain some of the overlap we saw earlier between the subreddits.\n",
    "\n",
    "#### The size and position of the circles in the Intertopic Distance Map on the left show how distinct each topic is from the other. Since the circles are fairly separated, the model sees them as different enough to be meaningful. This view helped us interpret the topics more clearly and added context to the accuracy score we calculated when comparing them to the actual subreddit labels."
   ]
  },
  {
   "cell_type": "code",
   "execution_count": 4,
   "id": "bb195cb0-a20c-4b21-834a-25d641a11bfb",
   "metadata": {},
   "outputs": [],
   "source": [
    "# Assign topic number to each post based on the highest topic weight\n",
    "df['lda_topic'] = W_lda_text_matrix.argmax(axis=1)"
   ]
  },
  {
   "cell_type": "code",
   "execution_count": 5,
   "id": "da6a31b5-bdc6-4db2-bcb2-64c84d095531",
   "metadata": {},
   "outputs": [
    {
     "data": {
      "text/html": [
       "<div>\n",
       "<style scoped>\n",
       "    .dataframe tbody tr th:only-of-type {\n",
       "        vertical-align: middle;\n",
       "    }\n",
       "\n",
       "    .dataframe tbody tr th {\n",
       "        vertical-align: top;\n",
       "    }\n",
       "\n",
       "    .dataframe thead th {\n",
       "        text-align: right;\n",
       "    }\n",
       "</style>\n",
       "<table border=\"1\" class=\"dataframe\">\n",
       "  <thead>\n",
       "    <tr style=\"text-align: right;\">\n",
       "      <th>subreddit</th>\n",
       "      <th>science</th>\n",
       "      <th>technology</th>\n",
       "    </tr>\n",
       "    <tr>\n",
       "      <th>lda_topic</th>\n",
       "      <th></th>\n",
       "      <th></th>\n",
       "    </tr>\n",
       "  </thead>\n",
       "  <tbody>\n",
       "    <tr>\n",
       "      <th>0</th>\n",
       "      <td>429</td>\n",
       "      <td>400</td>\n",
       "    </tr>\n",
       "    <tr>\n",
       "      <th>1</th>\n",
       "      <td>325</td>\n",
       "      <td>417</td>\n",
       "    </tr>\n",
       "  </tbody>\n",
       "</table>\n",
       "</div>"
      ],
      "text/plain": [
       "subreddit  science  technology\n",
       "lda_topic                     \n",
       "0              429         400\n",
       "1              325         417"
      ]
     },
     "execution_count": 5,
     "metadata": {},
     "output_type": "execute_result"
    }
   ],
   "source": [
    "# Crosstab of LDA topic vs actual subreddit\n",
    "pd.crosstab(df['lda_topic'], df['subreddit'])"
   ]
  },
  {
   "cell_type": "code",
   "execution_count": 6,
   "id": "ad155eef-b44e-49ce-a6dd-8b3f29992c78",
   "metadata": {},
   "outputs": [
    {
     "name": "stdout",
     "output_type": "stream",
     "text": [
      "LDA topic alignment accuracy: 0.54\n"
     ]
    }
   ],
   "source": [
    "# Get the topic most associated with each subreddit\n",
    "topic_match = df.groupby('lda_topic')['subreddit'].agg(lambda x: x.mode()[0])\n",
    "\n",
    "# Map predicted topics to most likely subreddit\n",
    "df['predicted_subreddit'] = df['lda_topic'].map(topic_match)\n",
    "\n",
    "# Accuracy of topic label vs actual label\n",
    "accuracy = (df['predicted_subreddit'] == df['subreddit']).mean()\n",
    "print(f\"LDA topic alignment accuracy: {accuracy:.2f}\")"
   ]
  },
  {
   "cell_type": "markdown",
   "id": "615eebd7-be7a-442a-99f3-34c88ebe917b",
   "metadata": {},
   "source": [
    "#### We used topic modeling without looking at the subreddit labels, then compared the assigned topics to the actual subreddits to see if they matched. The results showed that both topics had a mix of science and technology posts, so the topics did not clearly line up with the original groups. When we matched each topic to the subreddit it mostly contained, the accuracy was about 54%. This means the topic model grouped posts somewhat differently than the original labels, which makes sense since science and tech often overlap."
   ]
  },
  {
   "cell_type": "code",
   "execution_count": null,
   "id": "faf43a02-d516-416c-bfa2-33245e38e107",
   "metadata": {},
   "outputs": [],
   "source": []
  }
 ],
 "metadata": {
  "kernelspec": {
   "display_name": "Python 3 (ipykernel)",
   "language": "python",
   "name": "python3"
  },
  "language_info": {
   "codemirror_mode": {
    "name": "ipython",
    "version": 3
   },
   "file_extension": ".py",
   "mimetype": "text/x-python",
   "name": "python",
   "nbconvert_exporter": "python",
   "pygments_lexer": "ipython3",
   "version": "3.11.3"
  }
 },
 "nbformat": 4,
 "nbformat_minor": 5
}

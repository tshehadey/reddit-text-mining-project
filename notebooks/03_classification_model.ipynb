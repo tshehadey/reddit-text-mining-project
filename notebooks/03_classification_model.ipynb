{
 "cells": [
  {
   "cell_type": "code",
   "execution_count": 1,
   "id": "db06df32-1872-4579-b0d1-56a2c88173e4",
   "metadata": {},
   "outputs": [],
   "source": [
    "import pandas as pd\n",
    "import numpy as np\n",
    "import matplotlib.pyplot as plt\n",
    "import seaborn as sns"
   ]
  },
  {
   "cell_type": "code",
   "execution_count": 2,
   "id": "3aca7f32-6e83-46bf-abaa-7686dff0055b",
   "metadata": {},
   "outputs": [
    {
     "data": {
      "text/html": [
       "<div>\n",
       "<style scoped>\n",
       "    .dataframe tbody tr th:only-of-type {\n",
       "        vertical-align: middle;\n",
       "    }\n",
       "\n",
       "    .dataframe tbody tr th {\n",
       "        vertical-align: top;\n",
       "    }\n",
       "\n",
       "    .dataframe thead th {\n",
       "        text-align: right;\n",
       "    }\n",
       "</style>\n",
       "<table border=\"1\" class=\"dataframe\">\n",
       "  <thead>\n",
       "    <tr style=\"text-align: right;\">\n",
       "      <th></th>\n",
       "      <th>subreddit</th>\n",
       "      <th>processed_text</th>\n",
       "    </tr>\n",
       "  </thead>\n",
       "  <tbody>\n",
       "    <tr>\n",
       "      <th>0</th>\n",
       "      <td>science</td>\n",
       "      <td>new study african reserve find dehorn rhino cu...</td>\n",
       "    </tr>\n",
       "    <tr>\n",
       "      <th>1</th>\n",
       "      <td>science</td>\n",
       "      <td>lowcalorie diet increase risk depression overw...</td>\n",
       "    </tr>\n",
       "    <tr>\n",
       "      <th>2</th>\n",
       "      <td>science</td>\n",
       "      <td>people world likely favor dominant authoritari...</td>\n",
       "    </tr>\n",
       "    <tr>\n",
       "      <th>3</th>\n",
       "      <td>science</td>\n",
       "      <td>selfperceived physical attractiveness link str...</td>\n",
       "    </tr>\n",
       "    <tr>\n",
       "      <th>4</th>\n",
       "      <td>science</td>\n",
       "      <td>efficient mrna delivery rest t cell reverse hi...</td>\n",
       "    </tr>\n",
       "  </tbody>\n",
       "</table>\n",
       "</div>"
      ],
      "text/plain": [
       "  subreddit                                     processed_text\n",
       "0   science  new study african reserve find dehorn rhino cu...\n",
       "1   science  lowcalorie diet increase risk depression overw...\n",
       "2   science  people world likely favor dominant authoritari...\n",
       "3   science  selfperceived physical attractiveness link str...\n",
       "4   science  efficient mrna delivery rest t cell reverse hi..."
      ]
     },
     "execution_count": 2,
     "metadata": {},
     "output_type": "execute_result"
    }
   ],
   "source": [
    "# Load the cleaned and preprocessed data\n",
    "df = pd.read_csv('../data/reddit_preprocessed.csv')\n",
    "\n",
    "# Preview processed text\n",
    "df[['subreddit', 'processed_text']].head()"
   ]
  },
  {
   "cell_type": "markdown",
   "id": "c5007986-5dea-4cc8-a5c1-8814bfe13ea2",
   "metadata": {},
   "source": [
    "## Classification Model\n",
    "- Predict subreddit (science vs. technology) based on processed Reddit post text\n",
    "- Model options: Logistic Regression, Naive Bayes, SVM, etc.\n",
    "- Steps:\n",
    "  1. Train/test split\n",
    "  2. TF-IDF vectorization\n",
    "  3. Model training and evaluation"
   ]
  },
  {
   "cell_type": "code",
   "execution_count": null,
   "id": "815ac493-156e-4591-b0e0-eaec78162c9f",
   "metadata": {},
   "outputs": [],
   "source": []
  }
 ],
 "metadata": {
  "kernelspec": {
   "display_name": "Python 3 (ipykernel)",
   "language": "python",
   "name": "python3"
  },
  "language_info": {
   "codemirror_mode": {
    "name": "ipython",
    "version": 3
   },
   "file_extension": ".py",
   "mimetype": "text/x-python",
   "name": "python",
   "nbconvert_exporter": "python",
   "pygments_lexer": "ipython3",
   "version": "3.11.3"
  }
 },
 "nbformat": 4,
 "nbformat_minor": 5
}

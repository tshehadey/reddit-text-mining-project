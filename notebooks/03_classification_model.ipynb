{
 "cells": [
  {
   "cell_type": "code",
   "execution_count": 1,
   "id": "db06df32-1872-4579-b0d1-56a2c88173e4",
   "metadata": {},
   "outputs": [],
   "source": [
    "import pandas as pd\n",
    "import numpy as np\n",
    "import matplotlib.pyplot as plt\n",
    "import seaborn as sns\n",
    "from sklearn.model_selection import train_test_split\n",
    "from sklearn.feature_extraction.text import TfidfVectorizer\n",
    "from sklearn.svm import LinearSVC\n",
    "from sklearn.metrics import confusion_matrix, classification_report\n",
    "from sklearn.model_selection import GridSearchCV\n",
    "from sklearn import pipeline"
   ]
  },
  {
   "cell_type": "code",
   "execution_count": 2,
   "id": "3aca7f32-6e83-46bf-abaa-7686dff0055b",
   "metadata": {},
   "outputs": [
    {
     "data": {
      "application/vnd.microsoft.datawrangler.viewer.v0+json": {
       "columns": [
        {
         "name": "index",
         "rawType": "int64",
         "type": "integer"
        },
        {
         "name": "subreddit",
         "rawType": "object",
         "type": "string"
        },
        {
         "name": "processed_text",
         "rawType": "object",
         "type": "string"
        }
       ],
       "ref": "83495eb9-2c4d-4ba9-b5ef-6f4c3c54bff7",
       "rows": [
        [
         "0",
         "science",
         "new study african reserve find dehorn rhino cut poach far effective costly law enforcement"
        ],
        [
         "1",
         "science",
         "lowcalorie diet increase risk depression overweight people man particularly vulnerable mood change come lowcalorie diet cutting calorie rob brain nutrient need maintain balanced mood sort diet affect man mood"
        ],
        [
         "2",
         "science",
         "people world likely favor dominant authoritarian leader time intergroup conflict draw datum country find support human psychological system evolve prioritize strong leadership face external threat"
        ],
        [
         "3",
         "science",
         "selfperceived physical attractiveness link strong materialistic value research suggest occur people believe attractive likely compare term ability opinion social status increase materialistic tendency"
        ],
        [
         "4",
         "science",
         "efficient mrna delivery rest cell reverse hiv latency"
        ]
       ],
       "shape": {
        "columns": 2,
        "rows": 5
       }
      },
      "text/html": [
       "<div>\n",
       "<style scoped>\n",
       "    .dataframe tbody tr th:only-of-type {\n",
       "        vertical-align: middle;\n",
       "    }\n",
       "\n",
       "    .dataframe tbody tr th {\n",
       "        vertical-align: top;\n",
       "    }\n",
       "\n",
       "    .dataframe thead th {\n",
       "        text-align: right;\n",
       "    }\n",
       "</style>\n",
       "<table border=\"1\" class=\"dataframe\">\n",
       "  <thead>\n",
       "    <tr style=\"text-align: right;\">\n",
       "      <th></th>\n",
       "      <th>subreddit</th>\n",
       "      <th>processed_text</th>\n",
       "    </tr>\n",
       "  </thead>\n",
       "  <tbody>\n",
       "    <tr>\n",
       "      <th>0</th>\n",
       "      <td>science</td>\n",
       "      <td>new study african reserve find dehorn rhino cu...</td>\n",
       "    </tr>\n",
       "    <tr>\n",
       "      <th>1</th>\n",
       "      <td>science</td>\n",
       "      <td>lowcalorie diet increase risk depression overw...</td>\n",
       "    </tr>\n",
       "    <tr>\n",
       "      <th>2</th>\n",
       "      <td>science</td>\n",
       "      <td>people world likely favor dominant authoritari...</td>\n",
       "    </tr>\n",
       "    <tr>\n",
       "      <th>3</th>\n",
       "      <td>science</td>\n",
       "      <td>selfperceived physical attractiveness link str...</td>\n",
       "    </tr>\n",
       "    <tr>\n",
       "      <th>4</th>\n",
       "      <td>science</td>\n",
       "      <td>efficient mrna delivery rest cell reverse hiv ...</td>\n",
       "    </tr>\n",
       "  </tbody>\n",
       "</table>\n",
       "</div>"
      ],
      "text/plain": [
       "  subreddit                                     processed_text\n",
       "0   science  new study african reserve find dehorn rhino cu...\n",
       "1   science  lowcalorie diet increase risk depression overw...\n",
       "2   science  people world likely favor dominant authoritari...\n",
       "3   science  selfperceived physical attractiveness link str...\n",
       "4   science  efficient mrna delivery rest cell reverse hiv ..."
      ]
     },
     "execution_count": 2,
     "metadata": {},
     "output_type": "execute_result"
    }
   ],
   "source": [
    "# Load the cleaned and preprocessed data\n",
    "df = pd.read_csv('../data/reddit_preprocessed.csv')\n",
    "\n",
    "# Preview processed text\n",
    "df[['subreddit', 'processed_text']].head()"
   ]
  },
  {
   "cell_type": "code",
   "execution_count": null,
   "id": "b37a2f2e",
   "metadata": {},
   "outputs": [],
   "source": [
    "# Setting model input and output variables\n",
    "\n",
    "x = df['processed_text']\n",
    "y = df['subreddit']"
   ]
  },
  {
   "cell_type": "markdown",
   "id": "c5007986-5dea-4cc8-a5c1-8814bfe13ea2",
   "metadata": {},
   "source": [
    "## Classification Model\n",
    "- Predict subreddit (science vs. technology) based on processed Reddit post text\n",
    "- Model options: Logistic Regression, Naive Bayes, SVM, etc.\n",
    "- Steps:\n",
    "  1. Train/test split\n",
    "  2. TF-IDF vectorization\n",
    "  3. Model training and evaluation"
   ]
  },
  {
   "cell_type": "code",
   "execution_count": null,
   "id": "815ac493-156e-4591-b0e0-eaec78162c9f",
   "metadata": {},
   "outputs": [],
   "source": [
    "# Splitting dataset into training and testing splits\n",
    "\n",
    "X_train, X_test, Y_train, Y_test = train_test_split(x, y, test_size = 0.2, random_state = 509, stratify = df['subreddit'])\n",
    "\n",
    "# Vectorizing words in independent varaible datasets\n",
    "tfidf = TfidfVectorizer(min_df = 10, ngram_range=(1,2), stop_words='english')\n",
    "x_train_tf = tfidf.fit_transform(X_train)\n",
    "x_test_tf = tfidf.transform(X_test)"
   ]
  },
  {
   "cell_type": "code",
   "execution_count": null,
   "id": "10ae6e03",
   "metadata": {},
   "outputs": [
    {
     "name": "stdout",
     "output_type": "stream",
     "text": [
      "Best alpha parameter identified by grid search  {'model__loss': 'hinge', 'model__max_iter': 10000, 'model__penalty': 'l2', 'tfidf__min_df': 5, 'tfidf__ngram_range': (1, 3)}\n",
      "Best result identified by grid search  0.864661986972744\n"
     ]
    }
   ],
   "source": [
    "# Adapted from Blueprints for Text Analytics Using Python, Chapter 6\n",
    "\n",
    "# Building training pipleline\n",
    "training_pipeline = pipeline.Pipeline(\n",
    "    steps=[('tfidf', TfidfVectorizer(stop_words=\"english\")),\n",
    "           ('model', LinearSVC(random_state=509, tol=1e-5, dual='auto'))])\n",
    "\n",
    "# Creating grid for hyperparameter tuning\n",
    "grid_param = [{\n",
    "    'tfidf__min_df': [5, 10],\n",
    "    'tfidf__ngram_range': [(1, 3), (1, 6)],\n",
    "    'model__penalty': ['l2'],\n",
    "    'model__loss': ['hinge'],\n",
    "    'model__max_iter': [10000]\n",
    "}, {\n",
    "    'tfidf__min_df': [5, 10],\n",
    "    'tfidf__ngram_range': [(1, 3), (1, 6)],\n",
    "    'model__C': [1, 10],\n",
    "    'model__tol': [1e-2, 1e-3]}]\n",
    "\n",
    "gridSearchProcessor = GridSearchCV(estimator=training_pipeline,\n",
    "                                   param_grid=grid_param,\n",
    "                                   cv=5)\n",
    "gridSearchProcessor.fit(X_train, Y_train)\n",
    "\n",
    "best_params = gridSearchProcessor.best_params_\n",
    "best_params = gridSearchProcessor.best_params_\n",
    "print(\"Best alpha parameter identified by grid search \", best_params)\n",
    "\n",
    "best_result = gridSearchProcessor.best_score_\n",
    "print(\"Best result identified by grid search \", best_result)"
   ]
  },
  {
   "cell_type": "code",
   "execution_count": 6,
   "id": "5a8e1c7e",
   "metadata": {},
   "outputs": [
    {
     "data": {
      "application/vnd.microsoft.datawrangler.viewer.v0+json": {
       "columns": [
        {
         "name": "index",
         "rawType": "int64",
         "type": "integer"
        },
        {
         "name": "rank_test_score",
         "rawType": "int32",
         "type": "integer"
        },
        {
         "name": "mean_test_score",
         "rawType": "float64",
         "type": "float"
        },
        {
         "name": "params",
         "rawType": "object",
         "type": "unknown"
        }
       ],
       "ref": "fd50e9d2-172c-4e38-bdee-f42982af6821",
       "rows": [
        [
         "0",
         "1",
         "0.864661986972744",
         "{'model__loss': 'hinge', 'model__max_iter': 10000, 'model__penalty': 'l2', 'tfidf__min_df': 5, 'tfidf__ngram_range': (1, 3)}"
        ],
        [
         "1",
         "1",
         "0.864661986972744",
         "{'model__loss': 'hinge', 'model__max_iter': 10000, 'model__penalty': 'l2', 'tfidf__min_df': 5, 'tfidf__ngram_range': (1, 6)}"
        ],
        [
         "8",
         "3",
         "0.8614589261999621",
         "{'model__C': 1, 'model__tol': 0.001, 'tfidf__min_df': 5, 'tfidf__ngram_range': (1, 3)}"
        ],
        [
         "5",
         "3",
         "0.8614589261999621",
         "{'model__C': 1, 'model__tol': 0.01, 'tfidf__min_df': 5, 'tfidf__ngram_range': (1, 6)}"
        ],
        [
         "9",
         "3",
         "0.8614589261999621",
         "{'model__C': 1, 'model__tol': 0.001, 'tfidf__min_df': 5, 'tfidf__ngram_range': (1, 6)}"
        ]
       ],
       "shape": {
        "columns": 3,
        "rows": 5
       }
      },
      "text/html": [
       "<div>\n",
       "<style scoped>\n",
       "    .dataframe tbody tr th:only-of-type {\n",
       "        vertical-align: middle;\n",
       "    }\n",
       "\n",
       "    .dataframe tbody tr th {\n",
       "        vertical-align: top;\n",
       "    }\n",
       "\n",
       "    .dataframe thead th {\n",
       "        text-align: right;\n",
       "    }\n",
       "</style>\n",
       "<table border=\"1\" class=\"dataframe\">\n",
       "  <thead>\n",
       "    <tr style=\"text-align: right;\">\n",
       "      <th></th>\n",
       "      <th>rank_test_score</th>\n",
       "      <th>mean_test_score</th>\n",
       "      <th>params</th>\n",
       "    </tr>\n",
       "  </thead>\n",
       "  <tbody>\n",
       "    <tr>\n",
       "      <th>0</th>\n",
       "      <td>1</td>\n",
       "      <td>0.864662</td>\n",
       "      <td>{'model__loss': 'hinge', 'model__max_iter': 10...</td>\n",
       "    </tr>\n",
       "    <tr>\n",
       "      <th>1</th>\n",
       "      <td>1</td>\n",
       "      <td>0.864662</td>\n",
       "      <td>{'model__loss': 'hinge', 'model__max_iter': 10...</td>\n",
       "    </tr>\n",
       "    <tr>\n",
       "      <th>8</th>\n",
       "      <td>3</td>\n",
       "      <td>0.861459</td>\n",
       "      <td>{'model__C': 1, 'model__tol': 0.001, 'tfidf__m...</td>\n",
       "    </tr>\n",
       "    <tr>\n",
       "      <th>5</th>\n",
       "      <td>3</td>\n",
       "      <td>0.861459</td>\n",
       "      <td>{'model__C': 1, 'model__tol': 0.01, 'tfidf__mi...</td>\n",
       "    </tr>\n",
       "    <tr>\n",
       "      <th>9</th>\n",
       "      <td>3</td>\n",
       "      <td>0.861459</td>\n",
       "      <td>{'model__C': 1, 'model__tol': 0.001, 'tfidf__m...</td>\n",
       "    </tr>\n",
       "  </tbody>\n",
       "</table>\n",
       "</div>"
      ],
      "text/plain": [
       "   rank_test_score  mean_test_score  \\\n",
       "0                1         0.864662   \n",
       "1                1         0.864662   \n",
       "8                3         0.861459   \n",
       "5                3         0.861459   \n",
       "9                3         0.861459   \n",
       "\n",
       "                                              params  \n",
       "0  {'model__loss': 'hinge', 'model__max_iter': 10...  \n",
       "1  {'model__loss': 'hinge', 'model__max_iter': 10...  \n",
       "8  {'model__C': 1, 'model__tol': 0.001, 'tfidf__m...  \n",
       "5  {'model__C': 1, 'model__tol': 0.01, 'tfidf__mi...  \n",
       "9  {'model__C': 1, 'model__tol': 0.001, 'tfidf__m...  "
      ]
     },
     "execution_count": 6,
     "metadata": {},
     "output_type": "execute_result"
    }
   ],
   "source": [
    "gridsearch_results = pd.DataFrame(gridSearchProcessor.cv_results_)\n",
    "gridsearch_results[['rank_test_score', 'mean_test_score',\n",
    "                    'params']].sort_values(by=['rank_test_score'])[:5]"
   ]
  },
  {
   "cell_type": "code",
   "execution_count": null,
   "id": "9e864880",
   "metadata": {},
   "outputs": [],
   "source": [
    "# applying model with tuned hyperparameters to test data\n",
    "y_pred = gridSearchProcessor.predict(X_test)"
   ]
  },
  {
   "cell_type": "code",
   "execution_count": null,
   "id": "0cdde633",
   "metadata": {},
   "outputs": [
    {
     "data": {
      "text/plain": [
       "array([[134,  17],\n",
       "       [ 13, 151]])"
      ]
     },
     "execution_count": 8,
     "metadata": {},
     "output_type": "execute_result"
    }
   ],
   "source": [
    "# results\n",
    "confusion_matrix(Y_test, y_pred)"
   ]
  },
  {
   "cell_type": "code",
   "execution_count": 9,
   "id": "7ba8f59f",
   "metadata": {},
   "outputs": [
    {
     "name": "stdout",
     "output_type": "stream",
     "text": [
      "              precision    recall  f1-score   support\n",
      "\n",
      "     science       0.91      0.89      0.90       151\n",
      "  technology       0.90      0.92      0.91       164\n",
      "\n",
      "    accuracy                           0.90       315\n",
      "   macro avg       0.91      0.90      0.90       315\n",
      "weighted avg       0.90      0.90      0.90       315\n",
      "\n"
     ]
    }
   ],
   "source": [
    "# results\n",
    "print(classification_report(Y_test, y_pred))"
   ]
  }
 ],
 "metadata": {
  "kernelspec": {
   "display_name": "Python 3",
   "language": "python",
   "name": "python3"
  },
  "language_info": {
   "codemirror_mode": {
    "name": "ipython",
    "version": 3
   },
   "file_extension": ".py",
   "mimetype": "text/x-python",
   "name": "python",
   "nbconvert_exporter": "python",
   "pygments_lexer": "ipython3",
   "version": "3.12.8"
  }
 },
 "nbformat": 4,
 "nbformat_minor": 5
}

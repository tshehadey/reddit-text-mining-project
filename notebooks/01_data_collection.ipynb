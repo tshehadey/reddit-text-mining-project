{
 "cells": [
  {
   "cell_type": "code",
   "execution_count": 1,
   "id": "6f026aa6-6570-431f-b33c-f8b2f8fdcba0",
   "metadata": {},
   "outputs": [],
   "source": [
    "import praw\n",
    "import pandas as pd\n",
    "import os\n",
    "from dotenv import load_dotenv"
   ]
  },
  {
   "cell_type": "code",
   "execution_count": null,
   "id": "ab73a366-f851-4d75-9bdb-0e33224da8a8",
   "metadata": {},
   "outputs": [],
   "source": [
    "# Load credentials from .env file\n",
    "load_dotenv('../.env')  # Adjust path if needed\n",
    "\n",
    "\"\"\"We are collecting data from reddit using an API endpoint. We pass through our credentials and the subreddit we want to collect posts from\"\"\"\n",
    "\n",
    "# Set up Reddit API client\n",
    "reddit = praw.Reddit(\n",
    "    client_id=os.getenv('REDDIT_CLIENT_ID'),\n",
    "    client_secret=os.getenv('REDDIT_CLIENT_SECRET'),\n",
    "    user_agent='text-mining-project by u/Which-Reference-6224',\n",
    "    username=os.getenv('REDDIT_USERNAME'),\n",
    "    password=os.getenv('REDDIT_PASSWORD'))"
   ]
  },
  {
   "cell_type": "code",
   "execution_count": 3,
   "id": "dc5c36d6-05de-42c8-b666-a1b01d9bc520",
   "metadata": {},
   "outputs": [
    {
     "name": "stdout",
     "output_type": "stream",
     "text": [
      "A new study across 11 African reserves found that dehorning rhinos cut poaching by ~78% – far more effective than costly law enforcement alone.\n",
      "Low-calorie diets might increase risk of depression. Overweight people and men were particularly vulnerable to the mood changes that come with a low-calorie diet. Cutting calories might also rob the brain of nutrients needed to maintain a balanced mood. Any sort of diet at all affected men's moods.\n",
      "People around the world are more likely to favor dominant, authoritarian leaders during times of intergroup conflict. Drawing on data from 25 countries, the findings support that humans may have a psychological system that evolved to prioritize strong leadership when faced with external threats.\n",
      "Self-perceived physical attractiveness linked to stronger materialistic values. Research suggests this occurs because people who believe they are attractive are more likely to compare themselves with others in terms of abilities, opinions, and social status, which increases materialistic tendencies.\n",
      "Efficient mRNA delivery to resting T cells to reverse HIV latency\n"
     ]
    }
   ],
   "source": [
    "# Test Reddit connection\n",
    "for submission in reddit.subreddit('science').hot(limit=5):\n",
    "    print(submission.title)"
   ]
  },
  {
   "cell_type": "code",
   "execution_count": 4,
   "id": "da855829-f841-4d51-b453-a1c44b9e5c23",
   "metadata": {
    "scrolled": true
   },
   "outputs": [
    {
     "name": "stdout",
     "output_type": "stream",
     "text": [
      "Logged in as: Which-Reference-6224\n"
     ]
    }
   ],
   "source": [
    "print(\"Logged in as:\", reddit.user.me())"
   ]
  },
  {
   "cell_type": "code",
   "execution_count": null,
   "id": "f74088ea-ea31-42a3-85bd-99c9ea2a3e7a",
   "metadata": {},
   "outputs": [
    {
     "name": "stdout",
     "output_type": "stream",
     "text": [
      "Saved 2,000 combined posts to ../data/reddit_posts.csv\n"
     ]
    }
   ],
   "source": [
    "\"\"\"Due to API request limits and avoiding any memory issues, we kept our datasize to only 2000 posts from each sub reddit we requested data\n",
    "from. This way we also maintain a balanced class from the beginning and avoid additional feature engineering\"\"\"\n",
    "def fetch_posts(subreddit_name, limit=1000):\n",
    "    subreddit = reddit.subreddit(subreddit_name)\n",
    "    posts = []\n",
    "\n",
    "    for post in subreddit.hot(limit=limit):\n",
    "        posts.append({\n",
    "            'title': post.title,\n",
    "            'selftext': post.selftext,\n",
    "            'score': post.score,\n",
    "            'created_utc': post.created_utc,\n",
    "            'subreddit': subreddit_name})\n",
    "\n",
    "    return pd.DataFrame(posts)\n",
    "\n",
    "# Fetch from both subreddits\n",
    "science_df = fetch_posts('science', limit=1000)\n",
    "tech_df = fetch_posts('technology', limit=1000)\n",
    "\n",
    "# Combine and save\n",
    "all_posts = pd.concat([science_df, tech_df], ignore_index=True)\n",
    "all_posts.to_csv('../data/reddit_posts.csv', index=False)\n",
    "\n",
    "print(\"Saved 2,000 combined posts to ../data/reddit_posts.csv\")"
   ]
  },
  {
   "cell_type": "code",
   "execution_count": 6,
   "id": "57ce7ce7-f355-438e-b1ff-5afe1fcb7037",
   "metadata": {},
   "outputs": [
    {
     "data": {
      "text/html": [
       "<div>\n",
       "<style scoped>\n",
       "    .dataframe tbody tr th:only-of-type {\n",
       "        vertical-align: middle;\n",
       "    }\n",
       "\n",
       "    .dataframe tbody tr th {\n",
       "        vertical-align: top;\n",
       "    }\n",
       "\n",
       "    .dataframe thead th {\n",
       "        text-align: right;\n",
       "    }\n",
       "</style>\n",
       "<table border=\"1\" class=\"dataframe\">\n",
       "  <thead>\n",
       "    <tr style=\"text-align: right;\">\n",
       "      <th></th>\n",
       "      <th>title</th>\n",
       "      <th>selftext</th>\n",
       "      <th>score</th>\n",
       "      <th>created_utc</th>\n",
       "      <th>subreddit</th>\n",
       "    </tr>\n",
       "  </thead>\n",
       "  <tbody>\n",
       "    <tr>\n",
       "      <th>0</th>\n",
       "      <td>A new study across 11 African reserves found t...</td>\n",
       "      <td>NaN</td>\n",
       "      <td>1010</td>\n",
       "      <td>1.749149e+09</td>\n",
       "      <td>science</td>\n",
       "    </tr>\n",
       "    <tr>\n",
       "      <th>1</th>\n",
       "      <td>Low-calorie diets might increase risk of depre...</td>\n",
       "      <td>NaN</td>\n",
       "      <td>3031</td>\n",
       "      <td>1.749118e+09</td>\n",
       "      <td>science</td>\n",
       "    </tr>\n",
       "    <tr>\n",
       "      <th>2</th>\n",
       "      <td>People around the world are more likely to fav...</td>\n",
       "      <td>NaN</td>\n",
       "      <td>957</td>\n",
       "      <td>1.749125e+09</td>\n",
       "      <td>science</td>\n",
       "    </tr>\n",
       "    <tr>\n",
       "      <th>3</th>\n",
       "      <td>Self-perceived physical attractiveness linked ...</td>\n",
       "      <td>NaN</td>\n",
       "      <td>180</td>\n",
       "      <td>1.749150e+09</td>\n",
       "      <td>science</td>\n",
       "    </tr>\n",
       "    <tr>\n",
       "      <th>4</th>\n",
       "      <td>Efficient mRNA delivery to resting T cells to ...</td>\n",
       "      <td>NaN</td>\n",
       "      <td>260</td>\n",
       "      <td>1.749136e+09</td>\n",
       "      <td>science</td>\n",
       "    </tr>\n",
       "  </tbody>\n",
       "</table>\n",
       "</div>"
      ],
      "text/plain": [
       "                                               title selftext  score  \\\n",
       "0  A new study across 11 African reserves found t...      NaN   1010   \n",
       "1  Low-calorie diets might increase risk of depre...      NaN   3031   \n",
       "2  People around the world are more likely to fav...      NaN    957   \n",
       "3  Self-perceived physical attractiveness linked ...      NaN    180   \n",
       "4  Efficient mRNA delivery to resting T cells to ...      NaN    260   \n",
       "\n",
       "    created_utc subreddit  \n",
       "0  1.749149e+09   science  \n",
       "1  1.749118e+09   science  \n",
       "2  1.749125e+09   science  \n",
       "3  1.749150e+09   science  \n",
       "4  1.749136e+09   science  "
      ]
     },
     "execution_count": 6,
     "metadata": {},
     "output_type": "execute_result"
    }
   ],
   "source": [
    "df = pd.read_csv('../data/reddit_posts.csv')\n",
    "df.head()"
   ]
  },
  {
   "cell_type": "code",
   "execution_count": null,
   "id": "5706d399-2271-4b58-b49d-0a389df93530",
   "metadata": {},
   "outputs": [
    {
     "data": {
      "text/plain": [
       "subreddit\n",
       "technology    817\n",
       "science       754\n",
       "Name: count, dtype: int64"
      ]
     },
     "execution_count": 7,
     "metadata": {},
     "output_type": "execute_result"
    }
   ],
   "source": [
    "df['subreddit'].value_counts()\n",
    "\"\"\"We have a relatively balanced dataset, we will not require to balance our dataset\"\"\""
   ]
  },
  {
   "cell_type": "code",
   "execution_count": null,
   "id": "d29a549d-6df5-455b-b416-e8f9bf34672e",
   "metadata": {},
   "outputs": [],
   "source": []
  }
 ],
 "metadata": {
  "kernelspec": {
   "display_name": "Python 3 (ipykernel)",
   "language": "python",
   "name": "python3"
  },
  "language_info": {
   "codemirror_mode": {
    "name": "ipython",
    "version": 3
   },
   "file_extension": ".py",
   "mimetype": "text/x-python",
   "name": "python",
   "nbconvert_exporter": "python",
   "pygments_lexer": "ipython3",
   "version": "3.11.3"
  }
 },
 "nbformat": 4,
 "nbformat_minor": 5
}
